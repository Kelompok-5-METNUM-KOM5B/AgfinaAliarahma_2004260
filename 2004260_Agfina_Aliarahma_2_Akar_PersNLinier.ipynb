{
  "nbformat": 4,
  "nbformat_minor": 0,
  "metadata": {
    "colab": {
      "provenance": [],
      "collapsed_sections": []
    },
    "kernelspec": {
      "name": "python3",
      "display_name": "Python 3"
    },
    "language_info": {
      "name": "python"
    }
  },
  "cells": [
    {
      "cell_type": "markdown",
      "source": [
        "## **Akar Persamaan Non-Linier**\n",
        "Berikut ini merupakan fungsi dasar dari metode yang dapat digunakan untuk mencari akar Persamaan non-Linier"
      ],
      "metadata": {
        "id": "Tlb0XvJxS_oW"
      }
    },
    {
      "cell_type": "markdown",
      "source": [
        "**Pencarian Akar dengan Library**\n",
        "\n",
        "Contoh Fungsi: f(x) = cos(x)-x"
      ],
      "metadata": {
        "id": "8zXDT3F6UTm8"
      }
    },
    {
      "cell_type": "code",
      "source": [
        "import numpy as np # mengimport library numpy python\n",
        "from scipy import optimize # Memangil fungsi optimize dari library scipy untuk proses perhitungan pemrograman linear\n",
        "\n",
        "#deklarasi variabel untuk menyimpan persamaan\n",
        "f = lambda x: np.cos(x) - x\n",
        "\n",
        "#mencari akar\n",
        "r = optimize.fsolve(f, -2)\n",
        "print(\"r =\",r)\n",
        "\n",
        "# Verify the solution is a root\n",
        "result = f(r)\n",
        "print(\"result=\", result)"
      ],
      "metadata": {
        "colab": {
          "base_uri": "https://localhost:8080/",
          "height": 0
        },
        "id": "gMnlEqjjUnAa",
        "outputId": "49cca354-6917-42e3-ba1f-100eedfe1bf0"
      },
      "execution_count": 1,
      "outputs": [
        {
          "output_type": "stream",
          "name": "stdout",
          "text": [
            "r = [0.73908513]\n",
            "result= [0.]\n"
          ]
        }
      ]
    },
    {
      "cell_type": "markdown",
      "source": [
        "**Metode Bagi Dua**"
      ],
      "metadata": {
        "id": "ySxrsdzGTn0Z"
      }
    },
    {
      "cell_type": "code",
      "execution_count": 2,
      "metadata": {
        "id": "j7lAxfNeS9M0"
      },
      "outputs": [],
      "source": [
        "import numpy as np #panggil library\n",
        "\n",
        "#membuat fungsi \n",
        "def my_bisection(f, a, b, e):\n",
        "  if np.sign(f(a)) == np.sign(f(b)): #periksa jika f(a)=f(b)\n",
        "    raise Exception('Tidak ada akar pada interval a dan b') #jika ya maka tidak ditemukan akar \n",
        "  \n",
        "  #rumus metode bagi dua untuk mencari nilai tengah \n",
        "  m = (a + b)/2\n",
        "\n",
        "\n",
        "  if np.abs(f(m)) < e:\n",
        "    return m\n",
        "\n",
        "\n",
        "  elif np.sign(f(a)) == np.sign(f(m)): #cek apakah f(a)=(fm)\n",
        "    return my_bisection(f, m, b, e) # nilai yang dikembalikan jika benar\n",
        "\n",
        "  elif np.sign(f(b)) == np.sign(f(m)): ##cek apakah f(b)=(fm)\n",
        "    return my_bisection(f, a, m, e) # nilai yang dikembalikan jika benar"
      ]
    },
    {
      "cell_type": "markdown",
      "source": [
        "**Contoh Pencarian Akar dengan Metode Bagi Dua**\n",
        "\n",
        "f(x)=x^2 - 2"
      ],
      "metadata": {
        "id": "QK5X5eINXZln"
      }
    },
    {
      "cell_type": "code",
      "source": [
        "import numpy as np #panggil library\n",
        "f = lambda x: x**2-2\n",
        "\n",
        "r1 = my_bisection(f, 0, 2, 0.1)\n",
        "print(\"r1 =\", r1)\n",
        "print(\"f(r1) =\", f(r1))\n",
        "\n",
        "r01 = my_bisection(f, 0, 2, 0.01)\n",
        "print(\"r01 =\", r01)\n",
        "print(\"f(r01) =\", f(r01))"
      ],
      "metadata": {
        "colab": {
          "base_uri": "https://localhost:8080/",
          "height": 0
        },
        "id": "eJr_l7e2XyM0",
        "outputId": "4ba0634f-7464-4477-bc94-4bf30696cb17"
      },
      "execution_count": 3,
      "outputs": [
        {
          "output_type": "stream",
          "name": "stdout",
          "text": [
            "r1 = 1.4375\n",
            "f(r1) = 0.06640625\n",
            "r01 = 1.4140625\n",
            "f(r01) = -0.00042724609375\n"
          ]
        }
      ]
    },
    {
      "cell_type": "code",
      "source": [
        "import numpy as np #panggil library\n",
        "f = lambda x: x**2-2\n",
        "my_bisection(f, 2, 4, 0.01)"
      ],
      "metadata": {
        "colab": {
          "base_uri": "https://localhost:8080/",
          "height": 329
        },
        "id": "wXEmWDL3Yh1R",
        "outputId": "fbb0d3fe-c81a-4d1b-b4b2-f45e145e6077"
      },
      "execution_count": 4,
      "outputs": [
        {
          "output_type": "error",
          "ename": "Exception",
          "evalue": "ignored",
          "traceback": [
            "\u001b[0;31m---------------------------------------------------------------------------\u001b[0m",
            "\u001b[0;31mException\u001b[0m                                 Traceback (most recent call last)",
            "\u001b[0;32m<ipython-input-4-9db7d48a44ca>\u001b[0m in \u001b[0;36m<module>\u001b[0;34m\u001b[0m\n\u001b[1;32m      1\u001b[0m \u001b[0;32mimport\u001b[0m \u001b[0mnumpy\u001b[0m \u001b[0;32mas\u001b[0m \u001b[0mnp\u001b[0m \u001b[0;31m#panggil library\u001b[0m\u001b[0;34m\u001b[0m\u001b[0;34m\u001b[0m\u001b[0m\n\u001b[1;32m      2\u001b[0m \u001b[0mf\u001b[0m \u001b[0;34m=\u001b[0m \u001b[0;32mlambda\u001b[0m \u001b[0mx\u001b[0m\u001b[0;34m:\u001b[0m \u001b[0mx\u001b[0m\u001b[0;34m**\u001b[0m\u001b[0;36m2\u001b[0m\u001b[0;34m-\u001b[0m\u001b[0;36m2\u001b[0m\u001b[0;34m\u001b[0m\u001b[0;34m\u001b[0m\u001b[0m\n\u001b[0;32m----> 3\u001b[0;31m \u001b[0mmy_bisection\u001b[0m\u001b[0;34m(\u001b[0m\u001b[0mf\u001b[0m\u001b[0;34m,\u001b[0m \u001b[0;36m2\u001b[0m\u001b[0;34m,\u001b[0m \u001b[0;36m4\u001b[0m\u001b[0;34m,\u001b[0m \u001b[0;36m0.01\u001b[0m\u001b[0;34m)\u001b[0m\u001b[0;34m\u001b[0m\u001b[0;34m\u001b[0m\u001b[0m\n\u001b[0m",
            "\u001b[0;32m<ipython-input-2-eba946e3fa42>\u001b[0m in \u001b[0;36mmy_bisection\u001b[0;34m(f, a, b, e)\u001b[0m\n\u001b[1;32m      4\u001b[0m \u001b[0;32mdef\u001b[0m \u001b[0mmy_bisection\u001b[0m\u001b[0;34m(\u001b[0m\u001b[0mf\u001b[0m\u001b[0;34m,\u001b[0m \u001b[0ma\u001b[0m\u001b[0;34m,\u001b[0m \u001b[0mb\u001b[0m\u001b[0;34m,\u001b[0m \u001b[0me\u001b[0m\u001b[0;34m)\u001b[0m\u001b[0;34m:\u001b[0m\u001b[0;34m\u001b[0m\u001b[0;34m\u001b[0m\u001b[0m\n\u001b[1;32m      5\u001b[0m   \u001b[0;32mif\u001b[0m \u001b[0mnp\u001b[0m\u001b[0;34m.\u001b[0m\u001b[0msign\u001b[0m\u001b[0;34m(\u001b[0m\u001b[0mf\u001b[0m\u001b[0;34m(\u001b[0m\u001b[0ma\u001b[0m\u001b[0;34m)\u001b[0m\u001b[0;34m)\u001b[0m \u001b[0;34m==\u001b[0m \u001b[0mnp\u001b[0m\u001b[0;34m.\u001b[0m\u001b[0msign\u001b[0m\u001b[0;34m(\u001b[0m\u001b[0mf\u001b[0m\u001b[0;34m(\u001b[0m\u001b[0mb\u001b[0m\u001b[0;34m)\u001b[0m\u001b[0;34m)\u001b[0m\u001b[0;34m:\u001b[0m \u001b[0;31m#periksa jika f(a)=f(b)\u001b[0m\u001b[0;34m\u001b[0m\u001b[0;34m\u001b[0m\u001b[0m\n\u001b[0;32m----> 6\u001b[0;31m     \u001b[0;32mraise\u001b[0m \u001b[0mException\u001b[0m\u001b[0;34m(\u001b[0m\u001b[0;34m'Tidak ada akar pada interval a dan b'\u001b[0m\u001b[0;34m)\u001b[0m \u001b[0;31m#jika ya maka tidak ditemukan akar\u001b[0m\u001b[0;34m\u001b[0m\u001b[0;34m\u001b[0m\u001b[0m\n\u001b[0m\u001b[1;32m      7\u001b[0m \u001b[0;34m\u001b[0m\u001b[0m\n\u001b[1;32m      8\u001b[0m   \u001b[0;31m#rumus metode bagi dua untuk mencari nilai tengah\u001b[0m\u001b[0;34m\u001b[0m\u001b[0;34m\u001b[0m\u001b[0;34m\u001b[0m\u001b[0m\n",
            "\u001b[0;31mException\u001b[0m: Tidak ada akar pada interval a dan b"
          ]
        }
      ]
    },
    {
      "cell_type": "markdown",
      "source": [
        "**Metode Newton-Raphson**"
      ],
      "metadata": {
        "id": "uqd3qNtxS939"
      }
    },
    {
      "cell_type": "code",
      "source": [
        "import numpy as np #panggil library\n",
        "def my_newton(f, df, x0, e):\n",
        "# output is an estimation of the root of f\n",
        "# using the Newton-Raphson method\n",
        "# recursive implementation\n",
        "  if abs(f(x0)) < e:\n",
        "    return x0\n",
        "  else:\n",
        "    return my_newton(f, df, x0 - f(x0)/df(x0), e)"
      ],
      "metadata": {
        "id": "NWM7-9tpVr0a"
      },
      "execution_count": null,
      "outputs": []
    },
    {
      "cell_type": "markdown",
      "source": [
        "**Contoh Pencarian Akar dengan Metode Bagi Dua**\n",
        "\n",
        "f(x)=x^2 - 2"
      ],
      "metadata": {
        "id": "ffztAnc9ZbtI"
      }
    },
    {
      "cell_type": "code",
      "source": [
        "f = lambda x: x**2-2\n",
        "f_prime = lambda x: 2*x\n",
        "estimate = my_newton(f, f_prime, 1.5, 1e-6)\n",
        "print(\"estimate =\", estimate)\n",
        "print(\"sqrt(2) =\",np.sqrt(2))"
      ],
      "metadata": {
        "colab": {
          "base_uri": "https://localhost:8080/"
        },
        "id": "zFJnxIytZhln",
        "outputId": "e6d71caf-ed8a-4bd9-8946-7e39709d49c1"
      },
      "execution_count": null,
      "outputs": [
        {
          "output_type": "stream",
          "name": "stdout",
          "text": [
            "estimate = 1.4142135623746899\n",
            "sqrt(2) = 1.4142135623730951\n"
          ]
        }
      ]
    },
    {
      "cell_type": "markdown",
      "source": [
        "# **Latihan**"
      ],
      "metadata": {
        "id": "_l79MbNaaO9N"
      }
    },
    {
      "cell_type": "markdown",
      "source": [
        "**No.1 **\n",
        "Buatlah sebuah fungsi penyelesaian yang tepat baik dengan menggunakan metode Bagi Dua maupun Newton Raphson ketika \n",
        "\n",
        "a. f(x) = x^3 - 2x + 1\n",
        "\n",
        "b. f(x) = e^x - x\n",
        "\n",
        "**No 2**\n",
        "\n",
        "Buatlah modifikasi fungsi ketika kriteria program berhenti adalah sudah mencapai pada iterasi ke-n baik untuk Bagi Dua maupun Newton Raphson"
      ],
      "metadata": {
        "id": "XX6f9MQOaTas"
      }
    },
    {
      "cell_type": "code",
      "source": [
        "\n",
        "#NO1\n",
        "#METODE BAGI DUA\n",
        "\n",
        "\n",
        "#panggil library\n",
        "from cmath import e \n",
        "from tkinter import E\n",
        "\n",
        "#mendefinisikan fungsi f(x)\n",
        "def f(x): \n",
        "    return x**3-2*x+1 \n",
        "\n",
        "#definisikan metode bagi dua\n",
        "def bagidua(a,b,e): \n",
        "    step = 1 #variabel menyimpan berapa kali hasil putaran\n",
        "\n",
        "    print('\\n\\n===Metode Bagi Dua ===')\n",
        "\n",
        "    condition = True #jika kondisi true maka perulangan while akan terus berjalan\n",
        "    while condition:\n",
        "        c = (a + b)/2 #mencari titik tengah dari interval [a,b]\n",
        "        print('Iterasi ke-%d, c = %0.6f dan f(c) = %0.6f' % (step, c, f(c))) #mencetak iterasi ke- secara berulang ketika syarat terpenuhi\n",
        "\n",
        "        #kondisi untuk menentukan nilai c akan menggantikan a atau b\n",
        "        if f(a) * f(c) < 0:  \n",
        "            b = c\n",
        "        else:\n",
        "            a = c\n",
        "        \n",
        "        step = step + 1 #step(jumlah iterasi) bertambah satu \n",
        "        condition = abs(f(c)) > e\n",
        "\n",
        "    print('\\nRequired Root is : %0.8f' % c) #mencetak hasil akar terakhir \n",
        "\n",
        "#variabel untuk menyimpan data inputan\n",
        "a = input('First Guess: ')\n",
        "b = input('Second Guess: ')\n",
        "e = input('Toleransi Error: ')\n",
        "\n",
        "#mengkonversi inputan menjadi tipe data float \n",
        "a = float(a)\n",
        "b = float(b)\n",
        "e = float(e)\n",
        "\n",
        "\n",
        "#mengecek apakah interval nilai yang dipilih sudah benar atau belum \n",
        "if f(a) * f(b) > 0.0: #syarat bahwa nilai tidak benar untuk melanjutkan ke program \n",
        "    print('Coba dengan perkiraan value yang lain!')\n",
        "else:\n",
        "    bagidua(a,b,e) #memanggil metode bagi dua \n"
      ],
      "metadata": {
        "id": "MjocESJra-b5"
      },
      "execution_count": null,
      "outputs": []
    },
    {
      "cell_type": "code",
      "source": [
        "#NO2\n",
        "#METODE BAGI DUA\n",
        "\n",
        "\n",
        "#panggil library\n",
        "from cmath import e \n",
        "from tkinter import E\n",
        "\n",
        "#mendefinisikan fungsi f(x)\n",
        "def f(x): \n",
        "    return x**3-2*x+1 \n",
        "\n",
        "#definisikan metode bagi dua\n",
        "def bagidua(a,b,e): \n",
        "    step = 4 #variabel menyimpan berapa kali hasil putaran\n",
        "\n",
        "    print('\\n\\n===Metode Bagi Dua ===')\n",
        "\n",
        "    #condition = True #jika kondisi true maka perulangan while akan terus berjalan\n",
        "    while step != 0 :\n",
        "        c = (a + b)/2 #mencari titik tengah dari interval [a,b]\n",
        "        print('Iterasi ke-%d, c = %0.6f dan f(c) = %0.6f' % (step, c, f(c))) #mencetak iterasi ke- secara berulang ketika syarat terpenuhi\n",
        "\n",
        "        #kondisi untuk menentukan nilai c akan menggantikan a atau b\n",
        "        if f(a) * f(c) < 0:  \n",
        "            b = c\n",
        "        else:\n",
        "            a = c\n",
        "        \n",
        "        step = step - 1 #step(jumlah iterasi) bertambah satu \n",
        "        condition = abs(f(c)) > e\n",
        "\n",
        "    print('\\nRequired Root is : %0.8f' % c) #mencetak hasil akar terakhir \n",
        "\n",
        "#variabel untuk menyimpan data inputan\n",
        "a = input('First Guess: ')\n",
        "b = input('Second Guess: ')\n",
        "e = input('Toleransi Error: ')\n",
        "\n",
        "#mengkonversi inputan menjadi tipe data float \n",
        "a = float(a)\n",
        "b = float(b)\n",
        "e = float(e)\n",
        "\n",
        "\n",
        "#mengecek apakah interval nilai yang dipilih sudah benar atau belum \n",
        "if f(a) * f(b) > 0.0: #syarat bahwa nilai tidak benar untuk melanjutkan ke program \n",
        "    print('Coba dengan perkiraan value yang lain!')\n",
        "else:\n",
        "    bagidua(a,b,e) #memanggil metode bagi dua \n"
      ],
      "metadata": {
        "id": "d-n8LynEN0tq"
      },
      "execution_count": null,
      "outputs": []
    }
  ]
}